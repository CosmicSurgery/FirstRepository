{
 "cells": [
  {
   "cell_type": "code",
   "execution_count": 1,
   "metadata": {},
   "outputs": [],
   "source": [
    "from getData import df"
   ]
  },
  {
   "cell_type": "code",
   "execution_count": 2,
   "metadata": {},
   "outputs": [],
   "source": [
    "import dash\n",
    "import dash_core_components as dcc\n",
    "import dash_html_components as html\n",
    "from jupyter_plotly_dash import JupyterDash\n"
   ]
  },
  {
   "cell_type": "code",
   "execution_count": 9,
   "metadata": {},
   "outputs": [
    {
     "data": {
      "text/html": [
       "<div>\n",
       "  <iframe src=\"/app/endpoints/c788dbafd1964501ade88222b3c6cfb5/\" width=800 height=600 frameborder=\"0\"></iframe>\n",
       "  <hr/><a href=\"/app/endpoints/c788dbafd1964501ade88222b3c6cfb5/\" target=\"_new\">Open in new window</a> for /app/endpoints/c788dbafd1964501ade88222b3c6cfb5/\n",
       "</div>"
      ],
      "text/plain": [
       "<jupyter_plotly_dash.dash_wrapper.JupyterDash at 0x7f9ce74556d8>"
      ]
     },
     "execution_count": 9,
     "metadata": {},
     "output_type": "execute_result"
    }
   ],
   "source": [
    "from jupyter_plotly_dash import JupyterDash\n",
    "\n",
    "import dash\n",
    "import dash_core_components as dcc\n",
    "import dash_html_components as html\n",
    "import plotly.graph_objs as go\n",
    "\n",
    "app = JupyterDash('SimpleExample')\n",
    "\n",
    "authors =list(df.Author.unique())\n",
    "authors.remove('Miles Keating')\n",
    "\n",
    "subset = df[df.Conversation.isin(authors)]\n",
    "\n",
    "\n",
    "app.layout = html.Div([\n",
    "    html.H1('A heading!',\n",
    "        id='heading-1'\n",
    "    ),\n",
    "    dcc.Graph(id='graph-object',figure={\n",
    "        \"data\": [go.Scatter(\n",
    "            x=subset.loc[subset.Author == author].Datetime,\n",
    "            y=subset.loc[subset.Author == author]['Received Messages'],\n",
    "            mode='lines+markers',\n",
    "            name=author,\n",
    "            hoverinfo = 'skip',\n",
    "              ) for author in authors]\n",
    "    }) \n",
    "])\n",
    "    \n",
    "app\n"
   ]
  },
  {
   "cell_type": "markdown",
   "metadata": {},
   "source": []
  },
  {
   "cell_type": "code",
   "execution_count": null,
   "metadata": {},
   "outputs": [],
   "source": []
  }
 ],
 "metadata": {
  "kernelspec": {
   "display_name": "Python 3",
   "language": "python",
   "name": "python3"
  },
  "language_info": {
   "codemirror_mode": {
    "name": "ipython",
    "version": 3
   },
   "file_extension": ".py",
   "mimetype": "text/x-python",
   "name": "python",
   "nbconvert_exporter": "python",
   "pygments_lexer": "ipython3",
   "version": "3.6.9"
  }
 },
 "nbformat": 4,
 "nbformat_minor": 4
}
