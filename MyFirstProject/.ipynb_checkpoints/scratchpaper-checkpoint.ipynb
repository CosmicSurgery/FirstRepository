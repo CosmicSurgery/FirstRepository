{
 "cells": [
  {
   "cell_type": "code",
   "execution_count": 3,
   "metadata": {},
   "outputs": [
    {
     "name": "stderr",
     "output_type": "stream",
     "text": [
      "WARNING:bokeh.core.validation.check:W-1000 (MISSING_RENDERERS): Plot has no renderers: Figure(id='1067', ...)\n",
      "WARNING:bokeh.core.validation.check:W-1000 (MISSING_RENDERERS): Plot has no renderers: Figure(id='1100', ...)\n"
     ]
    }
   ],
   "source": [
    "from bokeh.plotting import figure\n",
    "from bokeh.io import show\n",
    "from bokeh.models import ColumnDataSource, Legend, Panel\n",
    "from bokeh.models.widgets import RadioButtonGroup, Select, CheckboxGroup\n",
    "from bokeh.layouts import column, row\n",
    "\n",
    "height = 300\n",
    "width = 1000\n",
    "\n",
    "top = figure(x_axis_type='datetime', frame_height=height, frame_width=width, title = 'Cumulative Sum')\n",
    "bot = figure(x_axis_type='datetime', frame_height=height, frame_width=width, title = 'Moving Average')\n",
    "show(column(top,bot))"
   ]
  },
  {
   "cell_type": "code",
   "execution_count": 4,
   "metadata": {},
   "outputs": [
    {
     "ename": "ModuleNotFoundError",
     "evalue": "No module named 'scripts'",
     "output_type": "error",
     "traceback": [
      "\u001b[0;31m---------------------------------------------------------------------------\u001b[0m",
      "\u001b[0;31mModuleNotFoundError\u001b[0m                       Traceback (most recent call last)",
      "\u001b[0;32m<ipython-input-4-173697f05bb3>\u001b[0m in \u001b[0;36m<module>\u001b[0;34m\u001b[0m\n\u001b[0;32m----> 1\u001b[0;31m \u001b[0;32mfrom\u001b[0m \u001b[0mscripts\u001b[0m\u001b[0;34m.\u001b[0m\u001b[0mgetData\u001b[0m \u001b[0;32mimport\u001b[0m \u001b[0mdf\u001b[0m\u001b[0;34m\u001b[0m\u001b[0;34m\u001b[0m\u001b[0m\n\u001b[0m\u001b[1;32m      2\u001b[0m \u001b[0;32mimport\u001b[0m \u001b[0mpandas\u001b[0m \u001b[0;32mas\u001b[0m \u001b[0mpd\u001b[0m\u001b[0;34m\u001b[0m\u001b[0;34m\u001b[0m\u001b[0m\n\u001b[1;32m      3\u001b[0m \u001b[0;34m\u001b[0m\u001b[0m\n\u001b[1;32m      4\u001b[0m \u001b[0;32mfrom\u001b[0m \u001b[0mbokeh\u001b[0m\u001b[0;34m.\u001b[0m\u001b[0mio\u001b[0m \u001b[0;32mimport\u001b[0m \u001b[0mshow\u001b[0m\u001b[0;34m,\u001b[0m \u001b[0moutput_notebook\u001b[0m\u001b[0;34m\u001b[0m\u001b[0;34m\u001b[0m\u001b[0m\n\u001b[1;32m      5\u001b[0m \u001b[0;32mfrom\u001b[0m \u001b[0mbokeh\u001b[0m\u001b[0;34m.\u001b[0m\u001b[0mplotting\u001b[0m \u001b[0;32mimport\u001b[0m \u001b[0mfigure\u001b[0m\u001b[0;34m,\u001b[0m \u001b[0mcurdoc\u001b[0m\u001b[0;34m\u001b[0m\u001b[0;34m\u001b[0m\u001b[0m\n",
      "\u001b[0;31mModuleNotFoundError\u001b[0m: No module named 'scripts'"
     ]
    }
   ],
   "source": [
    "from scripts.getData import df\n",
    "import pandas as pd\n",
    "\n",
    "from bokeh.io import show, output_notebook\n",
    "from bokeh.plotting import figure, curdoc\n",
    "from bokeh.models import ColumnDataSource, CDSView, GroupFilter, IndexFilter, HoverTool\n",
    "from bokeh.models.widgets import RadioButtonGroup, CheckboxGroup\n",
    "from bokeh.layouts import column, row\n",
    "from bokeh.palettes import turbo\n",
    "\n",
    "\n",
    "category = 'Sent Words'\n",
    "fig1 = figure(x_axis_type = 'datetime', title = 'moving average')\n",
    "fig2 = figure(x_axis_type = 'datetime', title = 'interpolate')\n",
    "\n",
    "pm_df = pd.DataFrame()\n",
    "pm_df = df.copy()\n",
    "\n",
    "vals = pm_df.loc[pm_df.Author == 'Poop']\n",
    "vals = vals[['Datetime', category]]\n",
    "vals.set_index('Datetime',inplace=True)\n",
    "\n",
    "temp = vals.copy()\n",
    "\n",
    "vals= vals.resample('7D').first()\n",
    "\n",
    "\n",
    "vals['difference'] = vals[~vals[category].isnull()].diff()\n",
    "category='difference'\n",
    "\n",
    "#vals.interpolate(inplace=True)\n",
    "vals.fillna(value=0,inplace=True)\n",
    "#fig1.line(vals.index, vals[category], alpha=0.5, color='navy')\n",
    "#fig2.line(vals.index, vals[category], alpha=0.5, color='navy')\n",
    "print(sum(vals[category])/len(vals[category]))\n",
    "\n",
    "#vals = vals.rolling(window=3).mean()\n",
    "\n",
    "fig1.line(vals.index, vals[category], alpha=0.4, color='green')\n",
    "fig2.circle(vals.index, vals[category], alpha=0.1, color='navy',size=2)\n",
    "\n",
    "vals.fillna(value=0,inplace=True)\n",
    "print(sum(vals[category])/len(vals[category]))\n",
    "\n",
    "\n",
    "vals = vals.rolling(window=4).mean()\n",
    "fig1.line(vals.index, vals[category], alpha=0.7, color='purple')\n",
    "fig2.line(vals.index, vals[category], alpha=0.3, color='purple')\n",
    "\n",
    "#vals = temp\n",
    "vals = temp\n",
    "vals= vals.resample('7D').first()\n",
    "\n",
    "vals['difference'] = vals[~vals['Sent Words'].isnull()].diff()\n",
    "\n",
    "\n",
    "vals.fillna(value=0,inplace=True)\n",
    "\n",
    "vals = vals.rolling(window=4).mean()\n",
    "\n",
    "\n",
    "\n",
    "\n",
    "vals.fillna(value=0,inplace=True)\n",
    "\n",
    "\n",
    "#vals.interpolate(model= 'cubic', order=3,inplace=True)\n",
    "\n",
    "from scipy.signal import savgol_filter\n",
    "vals.fillna(value=0,inplace=True)\n",
    "\n",
    "vals[category] = savgol_filter(vals[category], 11, 3)\n",
    "fig2.circle(vals.index, vals[category], alpha=0.7, color='green')\n",
    "\n",
    "\n",
    "\n",
    "\n",
    "\n",
    "vals.fillna(value=0,inplace=True)\n",
    "fig1.line(vals.index, vals['difference'], alpha=0.3, color ='orange')\n",
    "fig2.circle(vals.index, vals[category], alpha=0.3, color ='orange', size=3)\n",
    "print(sum(vals['difference'])/len(vals['difference']))\n",
    "\n",
    "\n",
    "print(sum(vals[category])/len(vals[category]))\n",
    "\n",
    "show(row(fig1, fig2))"
   ]
  },
  {
   "cell_type": "code",
   "execution_count": null,
   "metadata": {},
   "outputs": [],
   "source": []
  }
 ],
 "metadata": {
  "kernelspec": {
   "display_name": "Python 3",
   "language": "python",
   "name": "python3"
  },
  "language_info": {
   "codemirror_mode": {
    "name": "ipython",
    "version": 3
   },
   "file_extension": ".py",
   "mimetype": "text/x-python",
   "name": "python",
   "nbconvert_exporter": "python",
   "pygments_lexer": "ipython3",
   "version": "3.8.5"
  }
 },
 "nbformat": 4,
 "nbformat_minor": 4
}
